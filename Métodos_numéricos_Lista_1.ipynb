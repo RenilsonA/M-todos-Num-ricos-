{
  "nbformat": 4,
  "nbformat_minor": 0,
  "metadata": {
    "colab": {
      "provenance": [],
      "collapsed_sections": [],
      "authorship_tag": "ABX9TyPbubyi9a2hZYc8wR516usH",
      "include_colab_link": true
    },
    "kernelspec": {
      "name": "python3",
      "display_name": "Python 3"
    },
    "language_info": {
      "name": "python"
    }
  },
  "cells": [
    {
      "cell_type": "markdown",
      "metadata": {
        "id": "view-in-github",
        "colab_type": "text"
      },
      "source": [
        "<a href=\"https://colab.research.google.com/github/RenilsonA/Metodos-Numericos/blob/main/M%C3%A9todos_num%C3%A9ricos_Lista_1.ipynb\" target=\"_parent\"><img src=\"https://colab.research.google.com/assets/colab-badge.svg\" alt=\"Open In Colab\"/></a>"
      ]
    },
    {
      "cell_type": "markdown",
      "source": [
        "**Dupla: José Renilson e Élisson Souza**"
      ],
      "metadata": {
        "id": "-VJCD8x9Aqte"
      }
    },
    {
      "cell_type": "markdown",
      "source": [
        "**O código a seguir são todas as funções, juntas, pois se precisar ler uma outra função em uma determinada questão, não precisa procurar e executar o outro bloco, apenas executando o código abaixo, qualquer questão rodará sem problemas.**"
      ],
      "metadata": {
        "id": "Y7lgz2IpRT8B"
      }
    },
    {
      "cell_type": "code",
      "source": [
        "import math as m\n",
        "import matplotlib.pyplot as plt\n",
        "\n",
        "alternativa = [\"  A) \", \"  B) \", \"  C) \", \"  D) \", \"  E) \"]\n",
        "pi = 3.141592653589793\n",
        "e = 2.718281828459045\n",
        "\n",
        "def converteDecimal(num):\n",
        "    espacos = 0\n",
        "    bitsExpoente = 11\n",
        "    bitsMantissa = 0\n",
        "    sinal = 1\n",
        "    expoente = 0\n",
        "    fracao = 0\n",
        "    for i in range(len(num)):\n",
        "        if num[i] == ' ':\n",
        "            espacos = espacos + 1\n",
        "        elif espacos == 2:\n",
        "            bitsMantissa = bitsMantissa + 1\n",
        "            fracao = fracao + (ord(num[i]) - 48)*pow(1/2, bitsMantissa)\n",
        "        elif espacos == 1:\n",
        "            bitsExpoente = bitsExpoente - 1\n",
        "            expoente = expoente + (ord(num[i]) - 48)*pow(2, bitsExpoente)\n",
        "        elif espacos == 0:\n",
        "            if num[i] == '1':\n",
        "                sinal = -1\n",
        "    return sinal * pow(2, expoente - 1023) * (fracao + 1)\n",
        "\n",
        "def fatorial(num):\n",
        "    x = 1\n",
        "    while num > 1:\n",
        "        x = num * x\n",
        "        num = num - 1\n",
        "    return x\n",
        "\n",
        "def positivo(num):\n",
        "    if num < 0:\n",
        "        num = -num\n",
        "    return num\n",
        "    \n",
        "def ordemdoNum(num):\n",
        "    div = 1\n",
        "    num = positivo(num)\n",
        "    while num/div >= 1:\n",
        "        div = div * 10\n",
        "    return div\n",
        "\n",
        "def truncar(num, casas):\n",
        "    x = pow(10, casas)\n",
        "    div = ordemdoNum(num)\n",
        "    x = x/div\n",
        "    return int(num*x)/x\n",
        "\n",
        "def arredondamento(num, casas):\n",
        "    x = pow(10, casas)\n",
        "    num = truncar(num, casas + 1)\n",
        "    adicionar = 0.0\n",
        "    div = ordemdoNum(num)\n",
        "    y = 1\n",
        "    x = x/div\n",
        "    if num < 0:\n",
        "        y = -1\n",
        "    if ((num*x)%y)*10 >= 5.0 or ((num*x)%y)*10 <= -5.0:\n",
        "        adicionar = y/x\n",
        "    return int(num*x)/x + adicionar\n",
        "\n",
        "def Raizdelta(a, b, c):\n",
        "    return pow(b * b - 4 * a * c, 0.5)\n",
        "\n",
        "def raiz2grau(a, b, c):\n",
        "    D = Raizdelta(a, b, c)\n",
        "    x1 = (-b + D) / (2 * a)\n",
        "    x2 = (-b - D) / (2 * a)\n",
        "    return x1, x2\n",
        "\n",
        "def erroAbsoluto(x1, x2):\n",
        "    return (positivo(x1 - x2))\n",
        "\n",
        "def erroRelativo(EA, x):\n",
        "    return EA/positivo(x)\n",
        "\n",
        "def somatorio4C(i, valor):\n",
        "    x1 = 0\n",
        "    while i > 0:\n",
        "        x1 = x1 + (pow(-1, i)*pow(valor, i)/fatorial(i))\n",
        "        i = i - 1\n",
        "    return x1\n",
        "\n",
        "#entrada: 5x2^(2x)sin(2x)ln(3x)\n",
        "#i[0] = mult da funcao          i[1] = exp de X             i[2] = base da exp por X       i[3] = mult do exp vezes X     \n",
        "#i[4] = func trigonometrica     i[5] = mult da func trig    i[6] = há ln                   i[7] = mult interno do ln    \n",
        "#i[0] = 5, i[1] = 1, i[2] = 2, i[3] = 2, i[4] = True = seno, i[5] = 2, i[6] = True, i[7] = 3 \n",
        "def funcao(equacao, x):\n",
        "    f = 0\n",
        "    for i in equacao:\n",
        "        func = i[0]*pow(x, i[1])\n",
        "        if func == 0:\n",
        "            func = 1\n",
        "        if len(i) >= 4:\n",
        "            func = func*pow(i[2], i[3] * x)\n",
        "        if len(i) >= 6:\n",
        "            if i[4] == 1:\n",
        "                func = func*m.sin(i[5]*x)\n",
        "            elif i[4] == 2:\n",
        "                func = func*m.cos(i[5]*x)\n",
        "        if len(i) >= 8:\n",
        "            if i[6]:\n",
        "                func = func*m.log(i[7]*x, e)\n",
        "        f = f + func\n",
        "    return f\n",
        "\n",
        "#funciona apenas para algumas equações simples e especialmente para as alternativas da questão 9\n",
        "def derivada(equacao, x): \n",
        "    f = 0\n",
        "    for i in equacao:\n",
        "        func = 1\n",
        "        tam = len(i)\n",
        "        if x != 0:\n",
        "            func = i[0]*i[1]*pow(x, i[1] - 1)\n",
        "        if func == 0 and tam > 2:\n",
        "            func = 1\n",
        "        if tam >= 4 and i[3] != 0:\n",
        "            func = - func*i[3]*m.log(i[2], e)*pow(i[2], i[3]*x)\n",
        "        if tam >= 6:\n",
        "            if i[1] != 0:\n",
        "                if i[4] == 1:\n",
        "                    func = func*(m.sin(i[5]*x) + i[5]*x*m.cos(i[5]*x))\n",
        "                elif i[4] == 2:\n",
        "                    func = func*(m.cos(i[5]*x) - i[5]*x*m.sin(i[5]*x))\n",
        "            elif i[4] == 1:\n",
        "                func = func*m.cos(i[5]*x)*i[5]*i[0]\n",
        "            elif i[4] == 2:\n",
        "                func = - func*m.sin(i[5]*x)*i[5]*i[0]\n",
        "        if tam >= 8:\n",
        "            if i[6]:\n",
        "                func = func*(1/(i[7]*x))*i[7]\n",
        "        f = f + func\n",
        "    return f\n",
        "\n",
        "def biseccao(x1, x2, equacao, tolerancia, iteracoes, pn):\n",
        "    condicao = True\n",
        "    x3 = 0\n",
        "    valorPN, valorYPN = [], []\n",
        "    if funcao(equacao, x1) * funcao(equacao, x2) > 0:\n",
        "        print(\"valores da função inválidos\")\n",
        "        return\n",
        "    while condicao and iteracoes > 0:\n",
        "        x3 = (x1 + x2)/2\n",
        "        y1 = funcao(equacao, x1)\n",
        "        y3 = funcao(equacao, x3)\n",
        "        if y1 * y3 < 0:\n",
        "            x2 = x3\n",
        "        else:\n",
        "            x1 = x3\n",
        "        valorPN.append(x3)\n",
        "        valorYPN.append(funcao(equacao, x3))\n",
        "        condicao = abs(funcao(equacao, x3)) > tolerancia\n",
        "        iteracoes = iteracoes - 1\n",
        "    if pn:\n",
        "        return valorPN, valorYPN\n",
        "    return x3\n",
        "\n",
        "def newton(x, equacao, tolerancia, iteracoes, pn):\n",
        "    condicao = True\n",
        "    listaPN, listaYPN = [], []\n",
        "    while condicao and iteracoes > 0:\n",
        "        if derivada(equacao, x) == 0:\n",
        "            print(\"Erro, dividindo por zero.\")\n",
        "            return\n",
        "        x1 = x - funcao(equacao, x) / derivada(equacao, x)\n",
        "        listaPN.append(x1)\n",
        "        listaYPN.append(funcao(equacao, x1))\n",
        "        if positivo(x1 - x) < tolerancia:\n",
        "            if pn:\n",
        "                return listaPN, listaYPN\n",
        "            return x1\n",
        "        x = x1\n",
        "        iteracoes = iteracoes - 1\n",
        "    print(\"Metodo de Newton falhou, iterações insuficientes.\")\n",
        "    return\n",
        "\n",
        "def graficoPN(x1, x2, equacao, tolerancia, iteracoes, tipo):\n",
        "    pn, ypn = [], []\n",
        "    string = \" \"\n",
        "    if tipo == 1:\n",
        "        pn, ypn = biseccao(x1, x2, equacao, tolerancia, iteracoes, True)\n",
        "        string = \"Método de Bissecção\"\n",
        "    else:\n",
        "        pn, ypn = newton((x1 + x2)/2, equacao, tolerancia, iteracoes, True)\n",
        "        string = \"Método de Newton\"\n",
        "    if pn:\n",
        "        plt.scatter(pn, ypn, color='gray', label = 'Aproximações')\n",
        "        plt.scatter(pn[-1], ypn[-1], color='red', label = 'Raiz')\n",
        "        plt.title(string)\n",
        "\n",
        "def grafico(x1, x2, equacao, delta):\n",
        "    valoresx = []\n",
        "    valoresy = []\n",
        "    if x1 > x2:\n",
        "        x3 = x1\n",
        "        x1 = x2\n",
        "        x2 = x3\n",
        "    while x1 < x2:\n",
        "        valoresx.append(x1)\n",
        "        valoresy.append(funcao(equacao, x1))\n",
        "        x1 = x1 + delta\n",
        "    plt.plot(valoresx, valoresy, color='green', label = 'F(x)')\n",
        "    plt.axvline(0, color='black')\n",
        "    plt.axhline(0, color='black')\n",
        "    plt.legend()                  \n",
        "    plt.show()\n",
        "\n",
        "def pontoFixo(A, p0, tolerancia, N):\n",
        "    p = 0\n",
        "    i = N\n",
        "    while i > 0:\n",
        "        p = 2*p0 - A*p0*p0\n",
        "        if positivo(p - p0) < tolerancia:\n",
        "            return p\n",
        "        p0 = p\n",
        "        i = i - 1\n",
        "    print(\"Falhou\")\n",
        "    return -1\n"
      ],
      "metadata": {
        "id": "p9XTAqW9RQyq"
      },
      "execution_count": null,
      "outputs": []
    },
    {
      "cell_type": "markdown",
      "source": [
        "1. (Questão teórica) Considerando a representação em ponto flutuante\n",
        "com 64 bits, determine a representação decimal dos números abaixo.\n",
        "\n",
        "    a) 0 10000001010 1001001100000000000000001000000000001000000000000000\n",
        "\n",
        "    b) 1 10000001010 1001001100000000001000000000000000000000000000000000\n",
        "\n",
        "    c) 0 01111011111 0101001100000000000000000000000000000000000001000000\n",
        "\n",
        "    d) 0 01011111011 0101001100000000000000000000000000000000001000000001"
      ],
      "metadata": {
        "id": "4QVnxTdZQTfl"
      }
    },
    {
      "cell_type": "code",
      "source": [
        "alternativa = [\"  A) \", \"  B) \", \"  C) \", \"  D) \", \"  E) \"]\n",
        "\n",
        "def converteDecimal(num):\n",
        "    espacos = 0\n",
        "    bitsExpoente = 11\n",
        "    bitsMantissa = 0\n",
        "    sinal = 1\n",
        "    expoente = 0\n",
        "    fracao = 0\n",
        "    for i in range(len(num)):\n",
        "        if num[i] == ' ':\n",
        "            espacos = espacos + 1\n",
        "        elif espacos == 2:\n",
        "            bitsMantissa = bitsMantissa + 1\n",
        "            fracao = fracao + (ord(num[i]) - 48)*pow(1/2, bitsMantissa)\n",
        "        elif espacos == 1:\n",
        "            bitsExpoente = bitsExpoente - 1\n",
        "            expoente = expoente + (ord(num[i]) - 48)*pow(2, bitsExpoente)\n",
        "        elif espacos == 0:\n",
        "            if num[i] == '1':\n",
        "                sinal = -1\n",
        "    return sinal * pow(2, expoente - 1023) * (fracao + 1)\n",
        "\n",
        "valores = [\"0 10000001010 1001001100000000000000001000000000001000000000000000\",\n",
        "            \"1 10000001010 1001001100000000001000000000000000000000000000000000\",\n",
        "            \"0 01111011111 0101001100000000000000000000000000000000000001000000\",\n",
        "            \"0 01011111011 0101001100000000000000000000000000000000001000000001\"]\n",
        "altern = 0\n",
        "for i in valores:\n",
        "    valor = converteDecimal(i)\n",
        "    print(alternativa[altern], valor)\n",
        "    altern = altern + 1"
      ],
      "metadata": {
        "colab": {
          "base_uri": "https://localhost:8080/"
        },
        "id": "Uoz-5pIGQqF8",
        "outputId": "4d2eb9c5-f51d-4ab3-812b-181da2af5ebf"
      },
      "execution_count": null,
      "outputs": [
        {
          "output_type": "stream",
          "name": "stdout",
          "text": [
            "  A)  3224.0000610500574\n",
            "  B)  -3224.00390625\n",
            "  C)  3.08318703901026e-10\n",
            "  D)  7.14761020551091e-79\n"
          ]
        }
      ]
    },
    {
      "cell_type": "markdown",
      "source": [
        "2. Implemente algoritmos para calcular o erro absoluto e o erro relativo\n",
        "das aproximações de p por p* nos casos abaixo:\n",
        "\n",
        "a) p = π e p∗ = 3\n",
        "\n",
        "b) p = √2 e p∗ = 1, 414\n",
        "\n",
        "c) p = e^10 e p∗ = 22000\n",
        "\n",
        "d) p = 9! e p∗ =√(18π)(9/e)^9"
      ],
      "metadata": {
        "id": "HvSz4vh_Q09O"
      }
    },
    {
      "cell_type": "code",
      "source": [
        "alternativa = [\"  A) \", \"  B) \", \"  C) \", \"  D) \", \"  E) \"]\n",
        "\n",
        "def erroAbsoluto(x1, x2):\n",
        "    return (positivo(x1 - x2))\n",
        "\n",
        "def erroRelativo(EA, x):\n",
        "    return EA/positivo(x)\n",
        "\n",
        "\n",
        "print(\"Questão 2:\")\n",
        "dadosP  = [pi, pow(2, 0.5), pow(e, 10), fatorial(9)]\n",
        "dadosP2 = [3, 1.414, 22000, (pow(pi*18, 0.5)*pow((9/e), 9))]\n",
        "for i in range(4):\n",
        "    EA = erroAbsoluto(dadosP[i], dadosP2[i])\n",
        "    ER = erroRelativo(EA, dadosP[i])\n",
        "    print(alternativa[i] + \"Erro absoluto de\", EA, \"e erro relativo de\", ER)"
      ],
      "metadata": {
        "colab": {
          "base_uri": "https://localhost:8080/"
        },
        "id": "m40zH8huRKyG",
        "outputId": "7ec844cf-2334-457e-b74c-28e8dde68636"
      },
      "execution_count": null,
      "outputs": [
        {
          "output_type": "stream",
          "name": "stdout",
          "text": [
            "Questão 2:\n",
            "  A) Erro absoluto de 0.14159265358979312 e erro relativo de 0.04507034144862795\n",
            "  B) Erro absoluto de 0.00021356237309522186 e erro relativo de 0.00015101140222192286\n",
            "  C) Erro absoluto de 26.465794806703343 e erro relativo de 0.0012015452253326688\n",
            "  D) Erro absoluto de 3343.1271580516477 e erro relativo de 0.009212762230080598\n"
          ]
        }
      ]
    },
    {
      "cell_type": "markdown",
      "source": [
        "3. Suponha que p∗ deva aproximar p com erro relativo máximo de 10^−3. Determine o maior intervalo no qual p∗ pode estar para os valores de p abaixo:\n",
        "\n",
        "    a) p = 150\n",
        "\n",
        "    b) p = 900\n",
        "\n",
        "    c) p = 1500\n",
        "\n",
        "    d) p = 90"
      ],
      "metadata": {
        "id": "qnHLxyZpS5XD"
      }
    },
    {
      "cell_type": "code",
      "source": [
        "print(\"Questão 3:\")\n",
        "dadosP  = [150, 900, 1500, 90]\n",
        "for i in range(len(dadosP)):  \n",
        "    # (|p - p*|/|p|) <= 10^-3 >> |p - p*| <= p*10^-3 >> - p - p*10^-3 <= - p* <= - p + p*10^-3 >>\n",
        "    # p + p*10^-3 <= p* <= p - p*10^-3 \n",
        "    LSnfP2 = dadosP[i] + dadosP[i]*pow(10, -3)\n",
        "    LInfP2 = dadosP[i] - dadosP[i]*pow(10, -3)\n",
        "    print(alternativa[i] + \"O intervalo de p* é de:\", LInfP2, \"<= p* <=\", LSnfP2)"
      ],
      "metadata": {
        "colab": {
          "base_uri": "https://localhost:8080/"
        },
        "id": "PqU_By5bTKi9",
        "outputId": "67267594-27f7-43c7-c9dd-0e71ebf0d8cf"
      },
      "execution_count": null,
      "outputs": [
        {
          "output_type": "stream",
          "name": "stdout",
          "text": [
            "Questão 3:\n",
            "  A) O intervalo de p* é de: 149.85 <= p* <= 150.15\n",
            "  B) O intervalo de p* é de: 899.1 <= p* <= 900.9\n",
            "  C) O intervalo de p* é de: 1498.5 <= p* <= 1501.5\n",
            "  D) O intervalo de p* é de: 89.91 <= p* <= 90.09\n"
          ]
        }
      ]
    },
    {
      "cell_type": "markdown",
      "source": [
        "4. Implemente algoritmos para realizar os cálculos abaixo usando truncamento com 3 dígitos, truncamento com 4 dígitos, arredondamento com 3\n",
        "dígitos e arrendondamento com 4 dígitos. Realize o cálculo exato e calcule os erros absoluto e relativo de cada aproximação para cada item abaixo. Obs.: considere como cálculo exato aquele realizado em Python com sua precisão padrão. Você pode usar a biblioteca decimal do Python para obter aproximações dos números.\n",
        "\n",
        "    a) −10π + 6e − 0, 327\n",
        "\n",
        "    b) x, tal que (1/3)x^2 − (123/4)x + 16 = 0\n",
        "\n",
        "    c) e^−5, usando a aproximação e^−5 ≈ (((-1)^i)(5^i))/i! com 1 <= i <= 9 "
      ],
      "metadata": {
        "id": "quIL7xHVTYuo"
      }
    },
    {
      "cell_type": "code",
      "source": [
        "\n",
        "def fatorial(num):\n",
        "    x = 1\n",
        "    while num > 1:\n",
        "        x = num * x\n",
        "        num = num - 1\n",
        "    return x\n",
        "\n",
        "def positivo(num):\n",
        "    if num < 0:\n",
        "        num = -num\n",
        "    return num\n",
        "    \n",
        "def ordemdoNum(num):\n",
        "    div = 1\n",
        "    num = positivo(num)\n",
        "    while num/div >= 1:\n",
        "        div = div * 10\n",
        "    return div\n",
        "\n",
        "def truncar(num, casas):\n",
        "    x = pow(10, casas)\n",
        "    div = ordemdoNum(num)\n",
        "    x = x/div\n",
        "    return int(num*x)/x\n",
        "\n",
        "def arredondamento(num, casas):\n",
        "    x = pow(10, casas)\n",
        "    num = truncar(num, casas + 1)\n",
        "    adicionar = 0.0\n",
        "    div = ordemdoNum(num)\n",
        "    y = 1\n",
        "    x = x/div\n",
        "    if num < 0:\n",
        "        y = -1\n",
        "    if ((num*x)%y)*10 >= 5.0 or ((num*x)%y)*10 <= -5.0:\n",
        "        adicionar = y/x\n",
        "    return int(num*x)/x + adicionar\n",
        "\n",
        "def Raizdelta(a, b, c):\n",
        "    return pow(b * b - 4 * a * c, 0.5)\n",
        "\n",
        "def raiz2grau(a, b, c):\n",
        "    D = Raizdelta(a, b, c)\n",
        "    x1 = (-b + D) / (2 * a)\n",
        "    x2 = (-b - D) / (2 * a)\n",
        "    return x1, x2\n",
        "\n",
        "def erroAbsoluto(x1, x2):\n",
        "    return (positivo(x1 - x2))\n",
        "\n",
        "def erroRelativo(EA, x):\n",
        "    return EA/positivo(x)\n",
        "\n",
        "def somatorio4C(i, valor):\n",
        "    x1 = 0\n",
        "    while i > 0:\n",
        "        x1 = x1 + (pow(-1, i)*pow(valor, i)/fatorial(i))\n",
        "        i = i - 1\n",
        "    return x1\n",
        "\n",
        "print(\"Questão 4:\")\n",
        "\n",
        "######################### Letra A #########################\n",
        "x = -10*pi + 6*e - 0.327\n",
        "xtrunc3 = -10*truncar(pi, 3) + 6*truncar(e, 3) - 0.327\n",
        "xtrunc4 = -10*truncar(pi, 4) + 6*truncar(e, 4) - 0.327\n",
        "xtrunc4 = truncar(xtrunc4, 4)\n",
        "xarred3 = -10*arredondamento(pi, 3) + 6*arredondamento(e, 3) - 0.327\n",
        "xarred4 = -10*arredondamento(pi, 4) + 6*arredondamento(e, 4) - 0.327\n",
        "xarred4 = arredondamento(xarred4, 4)\n",
        "EA = erroAbsoluto(x, xtrunc3)\n",
        "ER = erroRelativo(EA, x)\n",
        "print(alternativa[0] + \"Truncamento de 3 casas: erro absoluto de\", EA, \"e erro relativo de\", ER)\n",
        "EA = erroAbsoluto(x, xtrunc4)\n",
        "ER = erroRelativo(EA, x)\n",
        "print(\"   Truncamento de 4 casas: erro absoluto de\", EA, \"e erro relativo de\", ER)\n",
        "EA = erroAbsoluto(x, xarred3)\n",
        "ER = erroRelativo(EA, x)\n",
        "print(\"   Arredondamento de 3 casas: erro absoluto de\", EA, \"e erro relativo de\", ER)\n",
        "EA = erroAbsoluto(x, xarred4)\n",
        "ER = erroRelativo(EA, x)\n",
        "print(\"   Arredondamento de 3 casas: erro absoluto de\", EA, \"e erro relativo de\", ER)\n",
        "\n",
        "######################### Letra B #########################\n",
        "a, b, c = 1/3, -123/4, 1/6\n",
        "x1, x2 = raiz2grau(a, b, c)\n",
        "At3, At4 = truncar(a, 3), truncar(a, 4)\n",
        "Bt3, Bt4 = truncar(b, 3), truncar(b, 4)\n",
        "Ct3, Ct4 = truncar(c, 3), truncar(c, 4)\n",
        "Aa3, Aa4 = arredondamento(a, 3), arredondamento(a, 4)\n",
        "Ba3, Ba4 = arredondamento(b, 3), arredondamento(b, 4)\n",
        "Ca3, Ca4 = arredondamento(c, 3), arredondamento(c, 4)\n",
        "x1t3, x2t3 = raiz2grau(At3, Bt3, Ct3)\n",
        "x1t4, x2t4 = raiz2grau(At4, Bt4, Ct4)\n",
        "x1a3, x2a3 = raiz2grau(Aa3, Ba3, Ca3)\n",
        "x1a4, x2a4 = raiz2grau(Aa4, Ba4, Ca4)\n",
        "x1trunc3, x2trunc3 = truncar(x1t3, 3), truncar(x2t3, 3)\n",
        "x1trunc4, x2trunc4 = truncar(x1t4, 4), truncar(x2t4, 4)\n",
        "x1arred3, x2arred3 = arredondamento(x1a3, 3), arredondamento(x2a3, 3)\n",
        "x1arred4, x2arred4 = arredondamento(x1a4, 4), arredondamento(x2a4, 4)\n",
        "EA = erroAbsoluto(x1, x1trunc3)\n",
        "ER = erroRelativo(EA, x1)\n",
        "EA2 = erroAbsoluto(x2, x2trunc3)\n",
        "ER2 = erroRelativo(EA2, x2)\n",
        "print(alternativa[1] + \"Truncamento de 3 casas: erro absoluto de X1\", EA, \"e de X2\", EA2, \"e erro relativo de X1\", ER, \"e de X2\", ER2)\n",
        "EA = erroAbsoluto(x1, x1trunc4)\n",
        "ER = erroRelativo(EA, x1)\n",
        "EA2 = erroAbsoluto(x2, x2trunc4)\n",
        "ER2 = erroRelativo(EA2, x2)\n",
        "print(\"     Truncamento de 4 casas: erro absoluto de X1\", EA, \"e de X2\", EA2, \"e erro relativo de X1\", ER, \"e de X2\", ER2)\n",
        "EA = erroAbsoluto(x1, x1arred3)\n",
        "ER = erroRelativo(EA, x1)\n",
        "EA2 = erroAbsoluto(x2, x2arred3)\n",
        "ER2 = erroRelativo(EA2, x2)\n",
        "print(\"     Arredondamento de 3 casas: erro absoluto de X1\", EA, \"e de X2\", EA2, \"e erro relativo de X1\", ER, \"e de X2\", ER2)\n",
        "EA = erroAbsoluto(x1, x1arred4)\n",
        "ER = erroRelativo(EA, x1)\n",
        "EA2 = erroAbsoluto(x2, x2arred4)\n",
        "ER2 = erroRelativo(EA2, x2)\n",
        "print(\"     Arredondamento de 3 casas: erro absoluto de X1\", EA, \"e de X2\", EA2, \"e erro relativo de X1\", ER, \"e de X2\", ER2)\n",
        "\n",
        "######################### Letra C #########################\n",
        "x = pow(e, -5)\n",
        "x1 = somatorio4C(9, 5)\n",
        "xtrunc3 = truncar(x1, 3)\n",
        "xtrunc4 = truncar(x1, 4)\n",
        "xarred3 = arredondamento(x1, 3)\n",
        "xarred4 = arredondamento(x1, 4)\n",
        "print(xtrunc3, xtrunc4, xarred3, xarred4)\n",
        "EA = erroAbsoluto(x, xtrunc3)\n",
        "ER = erroRelativo(EA, x)\n",
        "print(alternativa[2] + \"Truncamento de 3 casas: erro absoluto de X1\", EA, \"e erro relativo de X1\", ER)\n",
        "EA = erroAbsoluto(x, xtrunc4)\n",
        "ER = erroRelativo(EA, x)\n",
        "print(\"     Truncamento de 4 casas: erro absoluto de X1\", EA, \"e erro relativo de X1\", ER)\n",
        "EA = erroAbsoluto(x, xarred3)\n",
        "ER = erroRelativo(EA, x)\n",
        "print(\"     Arredondamento de 3 casas: erro absoluto de X1\", EA, \"e erro relativo de X1\", ER)\n",
        "EA = erroAbsoluto(x, xarred4)\n",
        "ER = erroRelativo(EA, x)\n",
        "print(\"     Arredondamento de 3 casas: erro absoluto de X1\", EA, \"e erro relativo de X1\", ER)"
      ],
      "metadata": {
        "colab": {
          "base_uri": "https://localhost:8080/"
        },
        "id": "o81H_ZYAVDP9",
        "outputId": "c32e9300-c780-41f6-b9e3-e85c1113cf6d"
      },
      "execution_count": null,
      "outputs": [
        {
          "output_type": "stream",
          "name": "stdout",
          "text": [
            "Questão 4:\n",
            "  A) Truncamento de 3 casas: erro absoluto de 0.033764434856344394 e erro relativo de 0.002187774217131902\n",
            "   Truncamento de 4 casas: erro absoluto de 0.013235565143659755 e erro relativo de 0.0008576014464233672\n",
            "   Arredondamento de 3 casas: erro absoluto de 0.02623556514365788 e erro relativo de 0.0016999393959171818\n",
            "   Arredondamento de 3 casas: erro absoluto de 0.006764434856339818 e erro relativo de 0.00043830309125958395\n",
            "  B) Truncamento de 3 casas: erro absoluto de X1 0.14457962731231078 e de X2 0.00042037268769490755 e erro relativo de X1 0.0015673509261622002 e de X2 0.07755420372647423\n",
            "     Truncamento de 4 casas: erro absoluto de X1 0.005420372687694908 e de X2 2.0372687694907368e-05 e erro relativo de X1 5.8760880147043483e-05 e de X2 0.0037585400245921372\n",
            "     Arredondamento de 3 casas: erro absoluto de X1 0.2554203726876949 e de X2 0.00042037268769490755 e erro relativo de X1 0.0027689472239956804 e de X2 0.07755420372647423\n",
            "     Arredondamento de 3 casas: erro absoluto de X1 0.005420372687694908 e de X2 2.0372687694907368e-05 e erro relativo de X1 5.8760880147043483e-05 e de X2 0.0037585400245921372\n",
            "-2.82 -2.827 -2.8299999999999996 -2.827\n",
            "  C) Truncamento de 3 casas: erro absoluto de X1 2.8267379469990854 e erro relativo de X1 419.52510866926593\n",
            "     Truncamento de 4 casas: erro absoluto de X1 2.8337379469990855 e erro relativo de X1 420.56400078298395\n",
            "     Arredondamento de 3 casas: erro absoluto de X1 2.836737946999085 e erro relativo de X1 421.0092402602916\n",
            "     Arredondamento de 3 casas: erro absoluto de X1 2.8337379469990855 e erro relativo de X1 420.56400078298395\n"
          ]
        }
      ]
    },
    {
      "cell_type": "markdown",
      "source": [
        "5. Implemente o Método da Bisecção e o Método de Newton para resolver f(x) = 0, de modo que f seja um dos parâmetros de entrada."
      ],
      "metadata": {
        "id": "vDMlNwcwVXmn"
      }
    },
    {
      "cell_type": "code",
      "source": [
        "#entrada: 5x2^(2x)sin(2x)ln(3x) (uma equação que tem todos os tipos de termos que tem na lista, usei esse tipo de formula para a função abaixo)\n",
        "#i[0] = mult da funcao          i[1] = exp de X             i[2] = base da exp por X       i[3] = mult do exp vezes X     \n",
        "#i[4] = func trigonometrica     i[5] = mult da func trig    i[6] = há ln                   i[7] = mult interno do ln    \n",
        "#i[0] = 5, i[1] = 1, i[2] = 2, i[3] = 2, i[4] = True = seno, i[5] = 2, i[6] = True, i[7] = 3 \n",
        "def funcao(equacao, x):\n",
        "    f = 0\n",
        "    for i in equacao:\n",
        "        func = i[0]*pow(x, i[1])\n",
        "        if func == 0:\n",
        "            func = 1\n",
        "        if len(i) >= 4:\n",
        "            func = func*pow(i[2], i[3] * x)\n",
        "        if len(i) >= 6:\n",
        "            if i[4] == 1:\n",
        "                func = func*m.sin(i[5]*x)\n",
        "            elif i[4] == 2:\n",
        "                func = func*m.cos(i[5]*x)\n",
        "        if len(i) >= 8:\n",
        "            if i[6]:\n",
        "                func = func*m.log(i[7]*x, e)\n",
        "        f = f + func\n",
        "    return f\n",
        "\n",
        "#funciona apenas para algumas equações simples e especialmente para as alternativas da questão 9\n",
        "def derivada(equacao, x): \n",
        "    f = 0\n",
        "    for i in equacao:\n",
        "        func = 1\n",
        "        tam = len(i)\n",
        "        if x != 0:\n",
        "            func = i[0]*i[1]*pow(x, i[1] - 1)\n",
        "        if func == 0 and tam > 2:\n",
        "            func = 1\n",
        "        if tam >= 4 and i[3] != 0:\n",
        "            func = - func*i[3]*m.log(i[2], e)*pow(i[2], i[3]*x)\n",
        "        if tam >= 6:\n",
        "            if i[1] != 0:\n",
        "                if i[4] == 1:\n",
        "                    func = func*(m.sin(i[5]*x) + i[5]*x*m.cos(i[5]*x))\n",
        "                elif i[4] == 2:\n",
        "                    func = func*(m.cos(i[5]*x) - i[5]*x*m.sin(i[5]*x))\n",
        "            elif i[4] == 1:\n",
        "                func = func*m.cos(i[5]*x)*i[5]*i[0]\n",
        "            elif i[4] == 2:\n",
        "                func = - func*m.sin(i[5]*x)*i[5]*i[0]\n",
        "        if tam >= 8:\n",
        "            if i[6]:\n",
        "                func = func*(1/(i[7]*x))*i[7]\n",
        "        f = f + func\n",
        "    return f\n",
        "\n",
        "def biseccao(x1, x2, equacao, tolerancia, iteracoes, pn):\n",
        "    condicao = True\n",
        "    x3 = 0\n",
        "    valorPN, valorYPN = [], []\n",
        "    if funcao(equacao, x1) * funcao(equacao, x2) > 0:\n",
        "        print(\"valores da função inválidos\")\n",
        "        return\n",
        "    while condicao and iteracoes > 0:\n",
        "        x3 = (x1 + x2)/2\n",
        "        y1 = funcao(equacao, x1)\n",
        "        y3 = funcao(equacao, x3)\n",
        "        if y1 * y3 < 0:\n",
        "            x2 = x3\n",
        "        else:\n",
        "            x1 = x3\n",
        "        valorPN.append(x3)\n",
        "        valorYPN.append(funcao(equacao, x3))\n",
        "        condicao = abs(funcao(equacao, x3)) > tolerancia\n",
        "        iteracoes = iteracoes - 1\n",
        "    if pn:\n",
        "        return valorPN, valorYPN\n",
        "    return x3\n",
        "\n",
        "def newton(x, equacao, tolerancia, iteracoes, pn):\n",
        "    condicao = True\n",
        "    listaPN, listaYPN = [], []\n",
        "    while condicao and iteracoes > 0:\n",
        "        if derivada(equacao, x) == 0:\n",
        "            print(\"Erro, dividindo por zero.\")\n",
        "            return\n",
        "        x1 = x - funcao(equacao, x) / derivada(equacao, x)\n",
        "        listaPN.append(x1)\n",
        "        listaYPN.append(funcao(equacao, x1))\n",
        "        if positivo(x1 - x) < tolerancia:\n",
        "            if pn:\n",
        "                return listaPN, listaYPN\n",
        "            return x1\n",
        "        x = x1\n",
        "        iteracoes = iteracoes - 1\n",
        "    print(\"Metodo de Newton falhou, iterações insuficientes.\")\n",
        "    return\n",
        "\n",
        "\n",
        "print(\"As funções estão no cabeçalho, com nomes de função (deve-se digitar nos vetores acima os valores\")\n",
        "print(\"respectivos dos termos multiplicadores e seus graus, em constantes, colocar como 0), derivada,\")\n",
        "print(\"biseccao(último parametro pode por false por enquanto, pois ele define o retorno de pn's da questão\")\n",
        "print(\"7) e newton (último parâmetro como False também).\")"
      ],
      "metadata": {
        "colab": {
          "base_uri": "https://localhost:8080/"
        },
        "id": "nhOiTNTuVn_a",
        "outputId": "fbe28c90-9e91-4704-ab30-a9bcd43d4507"
      },
      "execution_count": null,
      "outputs": [
        {
          "output_type": "stream",
          "name": "stdout",
          "text": [
            "As funções estão no cabeçalho, com nomes de função (deve-se digitar nos vetores acima os valores\n",
            "respectivos dos termos multiplicadores e seus graus, em constantes, colocar como 0), derivada,\n",
            "biseccao(último parametro pode por false por enquanto, pois ele define o retorno de pn's da questão\n",
            "7) e newton (último parâmetro como False também).\n"
          ]
        }
      ]
    },
    {
      "cell_type": "markdown",
      "source": [
        "6. Implemente uma função que receba f, a, b e ∆ e plote o gráfico de y = f(x) restrito ao intervalo [a, b], amostrando uniformemente o domínio entre a e b com passo ∆, e usando segmentas de reta."
      ],
      "metadata": {
        "id": "sDGw4qFxWAtf"
      }
    },
    {
      "cell_type": "code",
      "source": [
        "def grafico(x1, x2, equacao, delta):\n",
        "    valoresx = []\n",
        "    valoresy = []\n",
        "    if x1 > x2:\n",
        "        x3 = x1\n",
        "        x1 = x2\n",
        "        x2 = x3\n",
        "    while x1 < x2:\n",
        "        valoresx.append(x1)\n",
        "        valoresy.append(funcao(equacao, x1))\n",
        "        x1 = x1 + delta\n",
        "    plt.plot(valoresx, valoresy, color='green', label = 'F(x)')\n",
        "    plt.axvline(0, color='black')\n",
        "    plt.axhline(0, color='black')\n",
        "    plt.legend()                  \n",
        "    plt.show()\n",
        "\n",
        "print(\"A função também está no cabeçalho\")"
      ],
      "metadata": {
        "colab": {
          "base_uri": "https://localhost:8080/"
        },
        "id": "6_B1hmq3WNPf",
        "outputId": "333e1f8a-df1f-4189-fcfc-b2c33fc9b380"
      },
      "execution_count": null,
      "outputs": [
        {
          "output_type": "stream",
          "name": "stdout",
          "text": [
            "A função está no cabeçalho e é chamada de grafico, onde ela calcula cada ponto de y dado um intervalo de x\n"
          ]
        }
      ]
    },
    {
      "cell_type": "markdown",
      "source": [
        "7. Implemente uma função que receba f e uma tolerância (TOL), e retorne o array com a sequência pn de aproximações da raiz."
      ],
      "metadata": {
        "id": "u0KWlXBHWVoV"
      }
    },
    {
      "cell_type": "code",
      "source": [
        "def graficoPN(x1, x2, equacao, tolerancia, iteracoes, tipo):\n",
        "    pn, ypn = [], []\n",
        "    string = \" \"\n",
        "    if tipo == 1:\n",
        "        pn, ypn = biseccao(x1, x2, equacao, tolerancia, iteracoes, True)\n",
        "        string = \"Método de Bissecção\"\n",
        "    else:\n",
        "        pn, ypn = newton((x1 + x2)/2, equacao, tolerancia, iteracoes, True)\n",
        "        string = \"Método de Newton\"\n",
        "    if pn:\n",
        "        plt.scatter(pn, ypn, color='gray', label = 'Aproximações')\n",
        "        plt.scatter(pn[-1], ypn[-1], color='red', label = 'Raiz')\n",
        "        plt.title(string)\n",
        "\n",
        "print(\"As funções de bisseccao e newton já fazem isso, basta colocar o termo pn como True, que eles retornam os valores de pn e Y(pn).\")"
      ],
      "metadata": {
        "colab": {
          "base_uri": "https://localhost:8080/"
        },
        "id": "uvGPZarqWf5R",
        "outputId": "2af3b7b8-b5f9-436e-8ac2-bb67e19053c4"
      },
      "execution_count": null,
      "outputs": [
        {
          "output_type": "stream",
          "name": "stdout",
          "text": [
            "As funções de bisseccao e newton já fazem isso, basta colocar o termo pn como True, que eles retornam os valores de pn e Y(pn).\n"
          ]
        }
      ]
    },
    {
      "cell_type": "markdown",
      "source": [
        "8. Combinando os resultados das questões 6 e 7, implemente um algoritmo que plote o gráfico de y = f(x) junto com a sequência de pontos (pn, f(pn)). O gráfico deve ser uma curva poligonal (i.e. segmentos de reta conectados)."
      ],
      "metadata": {
        "id": "sLHtDiTWWnat"
      }
    },
    {
      "cell_type": "code",
      "source": [
        "def graficoPN(x1, x2, equacao, tolerancia, iteracoes, tipo):\n",
        "    pn, ypn = [], []\n",
        "    string = \" \"\n",
        "    if tipo == 1:\n",
        "        pn, ypn = biseccao(x1, x2, equacao, tolerancia, iteracoes, True)\n",
        "        string = \"Método de Bissecção\"\n",
        "    else:\n",
        "        pn, ypn = newton((x1 + x2)/2, equacao, tolerancia, iteracoes, True)\n",
        "        string = \"Método de Newton\"\n",
        "    if pn:\n",
        "        plt.scatter(pn, ypn, color='gray', label = 'Aproximações')\n",
        "        plt.scatter(pn[-1], ypn[-1], color='red', label = 'Raiz')\n",
        "        plt.title(string)\n",
        "\n",
        "\n",
        "def grafico(x1, x2, equacao, delta):\n",
        "    valoresx = []\n",
        "    valoresy = []\n",
        "    if x1 > x2:\n",
        "        x3 = x1\n",
        "        x1 = x2\n",
        "        x2 = x3\n",
        "    while x1 < x2:\n",
        "        valoresx.append(x1)\n",
        "        valoresy.append(funcao(equacao, x1))\n",
        "        x1 = x1 + delta\n",
        "    plt.plot(valoresx, valoresy, color='green', label = 'F(x)')\n",
        "    plt.axvline(0, color='black')\n",
        "    plt.axhline(0, color='black')\n",
        "    plt.legend()                  \n",
        "    plt.show()\n",
        "\n",
        "print(\"As funções de graficoPN e grafico do cabeçalho resolve quando colocadas em seguidas, pois á funcao grafico mostra o gráfico integrando ambas soluções\")\n",
        "print(\"onde deve-se passar o intervado [x1, x2], equação, a tolerância e\")\n",
        "print(\"o número máximo de iterações. Essa função já pega os valores de pn e Y(pn), logo não precisa definir nada.\")"
      ],
      "metadata": {
        "colab": {
          "base_uri": "https://localhost:8080/"
        },
        "id": "yZ4KJ9SAW4Mm",
        "outputId": "977ce65a-527c-48b0-a0ab-d7fffd4e0648"
      },
      "execution_count": null,
      "outputs": [
        {
          "output_type": "stream",
          "name": "stdout",
          "text": [
            "As funções de graficoPN e grafico do cabeçalho resolve quando colocadas em seguidas, pois á funcao grafico mostra o gráfico integrando ambas soluções\n",
            "onde deve-se passar o intervado [x1, x2], equação, a tolerância e\n",
            "o número máximo de iterações. Essa função já pega os valores de pn e Y(pn), logo não precisa definir nada.\n"
          ]
        }
      ]
    },
    {
      "cell_type": "markdown",
      "source": [
        "9. Gere resultados das questões 5, 6, 7 e 8 para as seguintes equações. Gerar resultado significa resolver a equação (com cada um dos dois métodos) e plotar os gráficos da questão 8. Use uma tolerância adequada.\n",
        "\n",
        "    a) x − 2^−x = 0, [0, 1]\n",
        "\n",
        "    b) x + 1 − 2 sen(πx) = 0, [0, 0.5]\n",
        "\n",
        "    c) 2x cos(2x) − (x + 1)^2 = 0, [−3, −2]\n",
        "\n",
        "    d) ln(x) − 2^x + x^2 = 0, [3, 5]"
      ],
      "metadata": {
        "id": "6bpMF6y0XDaK"
      }
    },
    {
      "cell_type": "code",
      "source": [
        "#formatação está no comentário de cabeçalho da função funcao, pois está formatada para resolver apenas funções respectivas da atividade\n",
        "#Comentários da linha 70 para entender melhor.\n",
        "equacao = [((1, 1), (-1, 0, 2, -1)), \n",
        "            ((1, 1), (1, 0), (-2, 0, 1, 0, 1, pi)), \n",
        "            ((2, 1, 1, 0, 2, 2), (-1, 2), (-2, 1), (-1, 0)), \n",
        "            ((1, 0, 1, 0, 0, 0, True, 1), (-1, 0, 2, 1), (1, 2))]\n",
        "intervalo = [(0, 1), (0, 0.5), (-3, -2), (3, 5)]\n",
        "tolerancia = pow(10, -4)\n",
        "iteracoes = 20\n",
        "func = [\"Bisecção\", \"Newton\"]\n",
        "#Tipo 1 = biseccao (muitos pontos), Tipo 2 = Newton (menos pontos)\n",
        "tipo = 2\n",
        "delta = 0.001\n",
        "for i in range(len(equacao)):\n",
        "    valorX3 = biseccao(intervalo[i][0], intervalo[i][1], equacao[i], tolerancia, iteracoes, False)\n",
        "    valorX2 = newton((intervalo[i][0] + intervalo[i][1]) / 2, equacao[i], tolerancia, iteracoes, False)\n",
        "    valorY3 = funcao(equacao[i], valorX3)\n",
        "    valorY2 = funcao(equacao[i], valorX2)\n",
        "    pn, ypn = newton((intervalo[i][0] + intervalo[i][1]) / 2, equacao[i], tolerancia, iteracoes, True)\n",
        "    \n",
        "    print(alternativa[i])\n",
        "    print(\"     Valor de pn e F(pn) em bisecção:\", valorX3, \"e\", valorY3)\n",
        "    print(\"     Valor de pn e F(pn) na função Newton:\", valorX2, \"e\", valorY2)\n",
        "    print(\"     Valores de pn e Y(pn), com base na função \", func[tipo - 1], pn, ypn)\n",
        "\n",
        "    graficoPN(intervalo[i][0], intervalo[i][1], equacao[i], tolerancia, iteracoes, tipo)\n",
        "    grafico(intervalo[i][0], intervalo[i][1], equacao[i], delta)\n",
        "\n",
        "    graficoPN(intervalo[i][0], intervalo[i][1], equacao[i], tolerancia, iteracoes, tipo - 1)\n",
        "    grafico(intervalo[i][0], intervalo[i][1], equacao[i], delta)"
      ],
      "metadata": {
        "id": "Rnr0GK-6XUDx",
        "colab": {
          "base_uri": "https://localhost:8080/",
          "height": 1000
        },
        "outputId": "4b6a31fa-9224-4dd9-c840-0dae89eeb553"
      },
      "execution_count": null,
      "outputs": [
        {
          "output_type": "stream",
          "name": "stdout",
          "text": [
            "  A) \n",
            "     Valor de pn e F(pn) em bisecção: 0.6412353515625 e 7.165384520102513e-05\n",
            "     Valor de pn e F(pn) na função Newton: 0.6411857445049576 e -4.107825191113079e-14\n",
            "     Valores de pn e Y(pn), com base na função  Newton [0.6389858000324148, 0.6411852281272069, 0.6411857445049576] [-0.0031784250401373226, -7.458747417476985e-07, -4.107825191113079e-14]\n"
          ]
        },
        {
          "output_type": "display_data",
          "data": {
            "text/plain": [
              "<Figure size 432x288 with 1 Axes>"
            ],
            "image/png": "[encoded data removed]"
          },
          "metadata": {
            "needs_background": "light"
          }
        },
        {
          "output_type": "display_data",
          "data": {
            "text/plain": [
              "<Figure size 432x288 with 1 Axes>"
            ],
            "image/png": "[encoded data removed]"
          },
          "metadata": {
            "needs_background": "light"
          }
        },
        {
          "output_type": "stream",
          "name": "stdout",
          "text": [
            "  B) \n",
            "     Valor de pn e F(pn) em bisecção: 0.2060546875 e -7.850958069632874e-05\n",
            "     Valor de pn e F(pn) na função Newton: 0.20603511896461532 e 2.4328434822251666e-09\n",
            "     Valores de pn e Y(pn), com base na função  Newton [0.20230347202541413, 0.20601490020938795, 0.20603511896461532] [0.015054833110085264, 8.112801743598297e-05, 2.4328434822251666e-09]\n"
          ]
        },
        {
          "output_type": "display_data",
          "data": {
            "text/plain": [
              "<Figure size 432x288 with 1 Axes>"
            ],
            "image/png": "[encoded data removed]"
          },
          "metadata": {
            "needs_background": "light"
          }
        },
        {
          "output_type": "display_data",
          "data": {
            "text/plain": [
              "<Figure size 432x288 with 1 Axes>"
            ],
            "image/png": "[encoded data removed]"
          },
          "metadata": {
            "needs_background": "light"
          }
        },
        {
          "output_type": "stream",
          "name": "stdout",
          "text": [
            "  C) \n",
            "     Valor de pn e F(pn) em bisecção: -2.191314697265625 e -6.704144808011847e-05\n",
            "     Valor de pn e F(pn) na função Newton: -2.1913080117973145 e -6.803446694902959e-13\n",
            "     Valores de pn e Y(pn), com base na função  Newton [-2.2211802368704023, -2.191935267416402, -2.1913083103925417, -2.1913080117973145] [-0.3062419311030391, -0.00629304532822994, -2.994279928447696e-06, -6.803446694902959e-13]\n"
          ]
        },
        {
          "output_type": "display_data",
          "data": {
            "text/plain": [
              "<Figure size 432x288 with 1 Axes>"
            ],
            "image/png": "[encoded data removed]"
          },
          "metadata": {
            "needs_background": "light"
          }
        },
        {
          "output_type": "display_data",
          "data": {
            "text/plain": [
              "<Figure size 432x288 with 1 Axes>"
            ],
            "image/png": "[encoded data removed]"
          },
          "metadata": {
            "needs_background": "light"
          }
        },
        {
          "output_type": "stream",
          "name": "stdout",
          "text": [
            "  D) \n",
            "     Valor de pn e F(pn) em bisecção: 4.349945068359375 e -8.260238573143397e-06\n",
            "     Valor de pn e F(pn) na função Newton: 4.349943481380083 e -3.552713678800501e-15\n",
            "     Valores de pn e Y(pn), com base na função  Newton [4.488070827525328, 4.362695740577665, 4.350064673400875, 4.3499434924548845, 4.349943481380083] [-0.7968870013233627, -0.06701617562173467, -0.0006308622333826008, -5.7644353290697836e-08, -3.552713678800501e-15]\n"
          ]
        },
        {
          "output_type": "display_data",
          "data": {
            "text/plain": [
              "<Figure size 432x288 with 1 Axes>"
            ],
            "image/png": "[encoded data removed]"
          },
          "metadata": {
            "needs_background": "light"
          }
        },
        {
          "output_type": "display_data",
          "data": {
            "text/plain": [
              "<Figure size 432x288 with 1 Axes>"
            ],
            "image/png": "[encoded data removed]"
          },
          "metadata": {
            "needs_background": "light"
          }
        }
      ]
    },
    {
      "cell_type": "markdown",
      "source": [
        "10. Seja g(x) = 2x − Ax^2, onde A é uma constante positiva.\n",
        "\n",
        "    a) (Questão teórica) Mostre que se a iteração de ponto fixo convergir para\n",
        "    um limite não nulo, este limite é p = 1/A.\n",
        "\n",
        "    b) Implemente um algoritmo baseado na iteração de ponto fixo para calcular o\n",
        "    inverso 1/A de um número positivo qualquer A, usando apenas multiplicações\n",
        "    e subtrações.\n",
        "\n",
        "    c) (Questão teórica) Encontre um intervalo onde a iteração de ponto fixo\n",
        "    acima converge."
      ],
      "metadata": {
        "id": "cFNUiLhYYOFV"
      }
    },
    {
      "cell_type": "code",
      "source": [
        "def pontoFixo(A, p0, tolerancia, N):\n",
        "    p = 0\n",
        "    i = N\n",
        "    while i > 0:\n",
        "        p = 2*p0 - A*p0*p0\n",
        "        if positivo(p - p0) < tolerancia:\n",
        "            return p\n",
        "        p0 = p\n",
        "        i = i - 1\n",
        "    print(\"Falhou\")\n",
        "    return -1\n",
        "\n",
        "print(alternativa[0], \"Se g(x) = 2x-Ax², g(p) = p = 2p-Ap², e assumindo que A > 0\")\n",
        "print(\"      Encontrando as raizes da equação algebricamente, temos que:\")\n",
        "print(\"      2p - Ap² - p = 0\")\n",
        "print(\"      p(1 - Ap) = 0\")\n",
        "print(\"      Extraindo as raízes\")\n",
        "print(\"      p' = 0\")\n",
        "print(\"      1 - Ap = 0\")\n",
        "print(\"      p = 1/A\")\n",
        "print(\"      Como A > 0, logo p converge.\")\n",
        "print(\"      Logo a iteração é válida.\")\n",
        "\n",
        "A = 2\n",
        "p = 0.99\n",
        "p = pontoFixo(A, p, 0.0001, 100)\n",
        "print(alternativa[1], p)\n",
        "\n",
        "print(alternativa[2], \"Igualando a equação dada a zero, podemos encontrar as raizes da equação algebricamente:\")\n",
        "print(\"      2p - Ap² = 0\")\n",
        "print(\"      p(2 - Ap) = 0\")\n",
        "print(\"      Extraindo as raízes\")\n",
        "print(\"      p' = 0\")\n",
        "print(\"      2 - Ap = 0\")\n",
        "print(\"      p'' = 2/A\")\n",
        "print(\"      Logo, temos que no invervalo [0, 2/A] existe uma raiz válida.\")\n",
        "print(\"      Então, podemos afirmar que o intervalo varia de 0 <= g(x) <= 2/A\")"
      ],
      "metadata": {
        "id": "vSCsSqbLZjC1",
        "colab": {
          "base_uri": "https://localhost:8080/"
        },
        "outputId": "3401f744-4dc4-4a27-efbb-32d1cc004f84"
      },
      "execution_count": null,
      "outputs": [
        {
          "output_type": "stream",
          "name": "stdout",
          "text": [
            "  A)  Se g(x) = 2x-Ax², g(p) = p = 2p-Ap², e assumindo que A > 0\n",
            "      Encontrando as raizes da equação algebricamente, temos que:\n",
            "      2p - Ap² - p = 0\n",
            "      p(1 - Ap) = 0\n",
            "      Extraindo as raízes\n",
            "      p' = 0\n",
            "      1 - Ap = 0\n",
            "      p = 1/A\n",
            "      Como A > 0, logo p converge.\n",
            "      Logo a iteração é válida.\n",
            "  B)  0.4999999994818309\n",
            "  C)  Igualando a equação dada a zero, podemos encontrar as raizes da equação algebricamente:\n",
            "      2p - Ap² = 0\n",
            "      p(2 - Ap) = 0\n",
            "      Extraindo as raízes\n",
            "      p' = 0\n",
            "      2 - Ap = 0\n",
            "      p'' = 2/A\n",
            "      Logo, temos que no invervalo [0, 2/A] existe uma raiz válida.\n",
            "      Então, podemos afirmar que o intervalo varia de 0 <= g(x) <= 2/A\n"
          ]
        }
      ]
    }
  ]
}